{
  "nbformat": 4,
  "nbformat_minor": 0,
  "metadata": {
    "colab": {
      "name": "formateo de texto",
      "provenance": [],
      "collapsed_sections": [],
      "authorship_tag": "ABX9TyOuvUVhDt2/N5WcynzQxSbc",
      "include_colab_link": true
    },
    "kernelspec": {
      "name": "python3",
      "display_name": "Python 3"
    }
  },
  "cells": [
    {
      "cell_type": "markdown",
      "metadata": {
        "id": "view-in-github",
        "colab_type": "text"
      },
      "source": [
        "<a href=\"https://colab.research.google.com/github/juanevelio/Aprendiendo-Arduino/blob/master/formateo_de_texto.ipynb\" target=\"_parent\"><img src=\"https://colab.research.google.com/assets/colab-badge.svg\" alt=\"Open In Colab\"/></a>"
      ]
    },
    {
      "cell_type": "markdown",
      "metadata": {
        "id": "AKrm9QhakN-5",
        "colab_type": "text"
      },
      "source": [
        "# FORMATEO DE TEXTO"
      ]
    },
    {
      "cell_type": "markdown",
      "metadata": {
        "id": "lP6KeVfGi-6w",
        "colab_type": "text"
      },
      "source": [
        "Formateo de texto CON LA FUNCION \"f\" y con interpolacion"
      ]
    },
    {
      "cell_type": "code",
      "metadata": {
        "id": "B6UYXPOAi2jd",
        "colab_type": "code",
        "colab": {
          "base_uri": "https://localhost:8080/",
          "height": 34
        },
        "outputId": "57d7910d-bdd4-4051-f93d-395f6114c2f4"
      },
      "source": [
        "nombre = \"Pedro\"\n",
        "apellido=\"lopez\"\n",
        "\n",
        "nombre_completo = f\"El señor {nombre} {apellido} esta presente\"\n",
        "print(nombre_completo)"
      ],
      "execution_count": 2,
      "outputs": [
        {
          "output_type": "stream",
          "text": [
            "El señor Pedro lopez esta presente\n"
          ],
          "name": "stdout"
        }
      ]
    }
  ]
}